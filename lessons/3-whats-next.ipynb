{
 "cells": [
  {
   "cell_type": "markdown",
   "id": "094c19ca-58a8-49b5-b11e-155f444ae240",
   "metadata": {},
   "source": [
    "# What's next"
   ]
  },
  {
   "cell_type": "markdown",
   "id": "454241b7-58b9-4ca3-83d3-a8f1629e8523",
   "metadata": {},
   "source": [
    "Of course there's more to working with LLMs than what we covered in these modules.  If you're looking for some other topics to explore:"
   ]
  },
  {
   "cell_type": "markdown",
   "id": "e776df19-ff12-456a-b2bf-becd1ee151b8",
   "metadata": {},
   "source": [
    "* SQL queries with semantic search \n",
    "    * Pre and post filtering [with pinecone](https://www.pinecone.io/learn/vector-search-filtering/)\n",
    "    * [Pinecone llamaindex filtering](https://github.com/run-llama/llama_index/blob/main/docs/examples/vector_stores/pinecone_metadata_filter.ipynb)\n",
    "    * Weaviate filtering \n",
    "        * [With llamaindex](https://docs.llamaindex.ai/en/stable/examples/vector_stores/WeaviateIndexDemo.html)\n",
    "        * [Weaviate documentation](https://weaviate.io/developers/weaviate/search/filters)"
   ]
  },
  {
   "cell_type": "markdown",
   "id": "8c1bbf81-e573-4ac6-b823-168f2630d071",
   "metadata": {},
   "source": [
    "* [Output Parsing](https://docs.llamaindex.ai/en/stable/examples/output_parsing/df_program.html) and [Named Entity Recognition](https://cookbook.openai.com/examples/named_entity_recognition_to_enrich_text)"
   ]
  },
  {
   "cell_type": "markdown",
   "id": "1dd67a51-8136-44bd-9761-6525dae536e3",
   "metadata": {},
   "source": [
    "* Knowledge Graphs - As an alternative to keyword indexing\n",
    "    * [Wikipedia Entry](https://en.wikipedia.org/wiki/Knowledge_graph)\n",
    "    * [Video](https://www.youtube.com/watch?v=hb8uT-VBEwQ)\n",
    "     "
   ]
  },
  {
   "cell_type": "code",
   "execution_count": null,
   "id": "b24241f9-58d8-4643-9ce9-7695783fc201",
   "metadata": {},
   "outputs": [],
   "source": []
  }
 ],
 "metadata": {
  "kernelspec": {
   "display_name": "Python 3 (ipykernel)",
   "language": "python",
   "name": "python3"
  },
  "language_info": {
   "codemirror_mode": {
    "name": "ipython",
    "version": 3
   },
   "file_extension": ".py",
   "mimetype": "text/x-python",
   "name": "python",
   "nbconvert_exporter": "python",
   "pygments_lexer": "ipython3",
   "version": "3.10.13"
  }
 },
 "nbformat": 4,
 "nbformat_minor": 5
}
